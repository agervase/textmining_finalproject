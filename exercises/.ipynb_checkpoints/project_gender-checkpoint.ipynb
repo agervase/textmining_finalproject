{
 "cells": [
  {
   "cell_type": "markdown",
   "metadata": {},
   "source": [
    "# Parsing gendered text\n",
    "\n",
    "Implement the `parse_gender` function as described on pp. 10-12 of the textbook. Run the function over the three texts indicated below and comment (briefly) on the results.\n",
    "\n",
    "Starter code is included below. When finished, commit your code and issue a pull request to me."
   ]
  },
  {
   "cell_type": "code",
   "execution_count": 10,
   "metadata": {},
   "outputs": [],
   "source": [
    "# Imports\n",
    "import nltk\n",
    "import os\n",
    "from   collections import Counter\n",
    "\n",
    "# Variables\n",
    "text_dir = os.path.join('..', 'data', 'texts') # Where are the texts?"
   ]
  },
  {
   "cell_type": "code",
   "execution_count": 2,
   "metadata": {},
   "outputs": [],
   "source": [
    "# Word lists\n",
    "MALE = 'male'\n",
    "FEMALE = 'female'\n",
    "UNKNOWN = 'unknown'\n",
    "BOTH = 'both'\n",
    "\n",
    "MALE_WORDS = set([\n",
    "    'guy','spokesman','chairman',\"men's\",'men','him',\"he's\",'his',\n",
    "    'boy','boyfriend','boyfriends','boys','brother','brothers','dad',\n",
    "    'dads','dude','father','fathers','fiance','gentleman','gentlemen',\n",
    "    'god','grandfather','grandpa','grandson','groom','he','himself',\n",
    "    'husband','husbands','king','male','man','mr','nephew','nephews',\n",
    "    'priest','prince','son','sons','uncle','uncles','waiter','widower',\n",
    "    'widowers'\n",
    "])\n",
    "\n",
    "FEMALE_WORDS = set([\n",
    "    'heroine','spokeswoman','chairwoman',\"women's\",'actress','women',\n",
    "    \"she's\",'her','aunt','aunts','bride','daughter','daughters','female',\n",
    "    'fiancee','girl','girlfriend','girlfriends','girls','goddess',\n",
    "    'granddaughter','grandma','grandmother','herself','ladies','lady',\n",
    "    'lady','mom','moms','mother','mothers','mrs','ms','niece','nieces',\n",
    "    'priestess','princess','queens','she','sister','sisters','waitress',\n",
    "    'widow','widows','wife','wives','woman'\n",
    "])"
   ]
  },
  {
   "cell_type": "code",
   "execution_count": 21,
   "metadata": {},
   "outputs": [],
   "source": [
    "# Your code here ...\n",
    "'''\n",
    "You might want to create your own short text sample for use in developing your code.\n",
    "To be clear, it's fine to copy the textbook code. This exercise is mostly a shakedown to\n",
    "check that your environment is working and that the GitHub Classroom submission system\n",
    "works as intended.\n",
    "'''\n",
    "def genderize(words):\n",
    "\n",
    "    mwlen = len(MALE_WORDS.intersection(words))\n",
    "    fwlen = len(FEMALE_WORDS.intersection(words))\n",
    "\n",
    "    if mwlen > 0 and fwlen == 0:\n",
    "        return MALE\n",
    "    elif mwlen == 0 and fwlen > 0:\n",
    "        return FEMALE\n",
    "    elif mwlen > 0 and fwlen > 0:\n",
    "        return BOTH\n",
    "    else:\n",
    "        return UNKNOWN\n",
    "\n",
    "\n",
    "def count_gender(sentences):\n",
    "\n",
    "    sents = Counter() # Counters are like dictionaries, \n",
    "    words = Counter() # but handle missing elements better\n",
    "\n",
    "    for sentence in sentences:\n",
    "        gender = genderize(sentence)\n",
    "        sents[gender] += 1             # Number of sentences per gender\n",
    "        words[gender] += len(sentence) # Number of words in the sentence\n",
    "                                       # Note ALL words in sentence assigned to one gender\n",
    "\n",
    "    return sents, words\n",
    "\n",
    "\n",
    "def parse_gender(text):\n",
    "\n",
    "    # List of lists. Inner items are tokenized words. Outer items are sentences.\n",
    "    sentences = [\n",
    "        [word.lower() for word in nltk.word_tokenize(sentence)]\n",
    "        for sentence in nltk.sent_tokenize(text)\n",
    "    ]\n",
    "\n",
    "    sents, words = count_gender(sentences)\n",
    "    total = sum(words.values()) # Total text wordcount\n",
    "\n",
    "    pct_male = 0\n",
    "    pct_female = 0\n",
    "    gender_dict = {}\n",
    "    \n",
    "    for gender, count in sorted(words.items()): # Each item is one gender\n",
    "        pcent = (count / total) * 100\n",
    "        nsents = sents[gender]\n",
    "        #print(\n",
    "        #    \"{:0.1f}% {} ({} sentences)\".format(pcent, gender, nsents)\n",
    "        #)\n",
    "        gender_dict[gender] = pcent\n",
    "    # Female/male ratio\n",
    "    #print(\"{} female/male ratio\".format(round(words[FEMALE]/words[MALE],2)))\n",
    "    return gender_dict"
   ]
  },
  {
   "cell_type": "code",
   "execution_count": 17,
   "metadata": {},
   "outputs": [
    {
     "name": "stdout",
     "output_type": "stream",
     "text": [
      "16372\n"
     ]
    }
   ],
   "source": [
    "path = \"../data/texts/\"\n",
    "dirListing = os.listdir(path)\n",
    "texts = []\n",
    "for item in dirListing:\n",
    "    if \".txt\" in item:\n",
    "        texts.append(item)\n",
    "        \n",
    "print(len(texts))"
   ]
  },
  {
   "cell_type": "code",
   "execution_count": 30,
   "metadata": {},
   "outputs": [
    {
     "name": "stdout",
     "output_type": "stream",
     "text": [
      "unknown, 51.91504495521268\n",
      "male, 45.36297101060396\n",
      "female, 0.6994132384080392\n",
      "both, 2.022570795775324\n",
      "CPU times: user 141 ms, sys: 0 ns, total: 141 ms\n",
      "Wall time: 150 ms\n"
     ]
    }
   ],
   "source": [
    "%%time\n",
    "gender_opts = {\"female\":[],\"male\":[],\"unknown\":[],\"both\":[]}\n",
    "# Run and examine the output\n",
    "for text in texts[0:10]: # Loop over texts in corpus directory\n",
    "    #print(text)\n",
    "    with open(os.path.join(text_dir, text), 'r') as f: # Open each text in turn\n",
    "        results = parse_gender(f.read()) # Run the gender-parsing function\n",
    "        for opt in gender_opts:\n",
    "            if opt in results:\n",
    "                gender_opts[opt].append(results[opt])\n",
    "            else:\n",
    "                gender_opts[opt].append(0)\n",
    "    #print('\\n**********\\n')\n",
    "\n",
    "for opt in gender_opts:\n",
    "    gen_avg = sum(gender_opts[opt])/len(gender_opts[opt])\n",
    "    print(\"{}, {}\".format(opt, gen_avg))"
   ]
  }
 ],
 "metadata": {
  "kernelspec": {
   "display_name": "Python 3",
   "language": "python",
   "name": "python3"
  },
  "language_info": {
   "codemirror_mode": {
    "name": "ipython",
    "version": 3
   },
   "file_extension": ".py",
   "mimetype": "text/x-python",
   "name": "python",
   "nbconvert_exporter": "python",
   "pygments_lexer": "ipython3",
   "version": "3.5.2"
  }
 },
 "nbformat": 4,
 "nbformat_minor": 2
}
